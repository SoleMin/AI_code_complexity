{
 "cells": [
  {
   "cell_type": "code",
   "execution_count": 1,
   "metadata": {},
   "outputs": [],
   "source": [
    "import io\n",
    "import os\n",
    "import torch\n",
    "from tqdm.notebook import tqdm\n",
    "from torch.utils.data import Dataset, DataLoader\n",
    "#from ml_things import plot_dict, plot_confusion_matrix, fix_text\n",
    "from sklearn.metrics import classification_report, accuracy_score\n",
    "from transformers import (AutoConfig, \n",
    "                          AutoModelForSequenceClassification, \n",
    "                          AutoTokenizer, AdamW, \n",
    "                          get_linear_schedule_with_warmup,\n",
    "                          set_seed,\n",
    "                          )\n",
    "\n",
    "\n",
    "# Set seed for reproducibility,\n",
    "set_seed(123)\n",
    "\n",
    "# Number of training epochs (authors recommend between 2 and 4)\n",
    "epochs = 50\n",
    "\n",
    "# Number of batches - depending on the max sequence length and GPU memory.\n",
    "# For 512 sequence length batch of 10 works without cuda memory issues.\n",
    "# For small sequence length can try batch of 32 or higher.\n",
    "batch_size = 16\n",
    "\n",
    "# Pad or truncate text sequences to a specific length\n",
    "# if `None` it will use maximum sequence of word piece tokens allowed by model.\n",
    "max_length = 512\n",
    "\n",
    "# Look for gpu to use. Will use `cpu` by default if no gpu found.\n",
    "device = torch.device('cuda' if torch.cuda.is_available() else 'cpu')\n",
    "\n",
    "# Name of transformers model - will use already pretrained model.\n",
    "# Path of transformer model - will load your own model from local disk.\n",
    "model_name_or_path = 'microsoft/codebert-base'\n",
    "\n",
    "# Dicitonary of labels and their id - this will be used to convert.\n",
    "# String labels to number ids.\n",
    "labels_ids = {'n':0, 'n_square':1, 'logn':2, 'nlogn':3, 'sqrtn':4, 'n_cube':5, 'n_squarelogn':6, '1':7, 'logn_square':8}\n",
    "\n",
    "# How many labels are we using in training.\n",
    "# This is used to decide size of classification head.\n",
    "n_labels = len(labels_ids)"
   ]
  },
  {
   "cell_type": "code",
   "execution_count": 2,
   "metadata": {},
   "outputs": [],
   "source": [
    "import glob\n",
    "import pandas as pd\n",
    "import pyparsing\n",
    "from AST import feature_Extractor\n",
    "\n",
    "class CodeDataset(Dataset):\n",
    "    r\"\"\"PyTorch Dataset class for loading data.\n",
    "\n",
    "    This is where the data parsing happens and where the text gets encoded using\n",
    "    loaded tokenizer.\n",
    "\n",
    "    This class is built with reusability in mind: it can be used as is as long\n",
    "    as the `dataloader` outputs a batch in dictionary format that can be passed \n",
    "    straight into the model - `model(**batch)`.\n",
    "\n",
    "    Arguments:\n",
    "\n",
    "    path (:obj:`str`):\n",
    "        Path to the data partition.\n",
    "\n",
    "    use_tokenizer (:obj:`transformers.tokenization_?`):\n",
    "        Transformer type tokenizer used to process raw text into numbers.\n",
    "\n",
    "    labels_ids (:obj:`dict`):\n",
    "        Dictionary to encode any labels names into numbers. Keys map to \n",
    "        labels names and Values map to number associated to those labels.\n",
    "\n",
    "    max_sequence_len (:obj:`int`, `optional`)\n",
    "        Value to indicate the maximum desired sequence to truncate or pad text\n",
    "        sequences. If no value is passed it will used maximum sequence size\n",
    "        supported by the tokenizer and model.\n",
    "\n",
    "    \"\"\"\n",
    "\n",
    "    def __init__(self, path, use_tokenizer, labels_ids, max_sequence_len=None):\n",
    "\n",
    "    # Check if path exists.\n",
    "        if not os.path.isdir(path):\n",
    "            # Raise error if path is invalid.\n",
    "            raise ValueError('Invalid `path` variable! Needs to be a directory')\n",
    "        # Check max sequence length.\n",
    "        max_sequence_len = use_tokenizer.max_len if max_sequence_len is None else max_sequence_len\n",
    "        texts = []\n",
    "        labels = []\n",
    "        print('Reading partitions...')\n",
    "        # Since the labels are defined by folders with data we loop \n",
    "        # through each label.\n",
    "\n",
    "        temp_data=pd.read_csv('data/finalFeatureData.csv').dropna()\n",
    "        data_name=temp_data['file_name'].reset_index(drop=True)\n",
    "        data_complexity=temp_data['complexity'].reset_index(drop=True)\n",
    "\n",
    "        texts = []\n",
    "        labels = []\n",
    "        commentFilter = pyparsing.javaStyleComment.suppress()\n",
    "\n",
    "        for file in data_name:\n",
    "            data = open('data/CodeDataset/' + file, 'r')\n",
    "            lines = data.readlines()\n",
    "\n",
    "            code = ' '.join(lines).replace('\\n', ' ').replace('\\t', ' ').replace('  ', ' ').strip()\n",
    "\n",
    "            no_comment_code = commentFilter.transformString(code).replace('  ', ' ').strip()\n",
    "\n",
    "            texts.append(no_comment_code)\n",
    "\n",
    "            #labels.append(feature_Extractor(file))\n",
    "\n",
    "            \n",
    "        for comple in data_complexity:\n",
    "            labels.append(labels_ids[comple])\n",
    "            \n",
    "\n",
    "        # Number of exmaples.\n",
    "        self.n_examples = len(labels)\n",
    "        # Use tokenizer on texts. This can take a while.\n",
    "        print('Using tokenizer on all texts. This can take a while...')\n",
    "        self.inputs = use_tokenizer(texts, add_special_tokens=True, truncation=True, padding=True, return_tensors='pt',  max_length=max_sequence_len)\n",
    "        # Get maximum sequence length.\n",
    "        self.sequence_len = self.inputs['input_ids'].shape[-1]\n",
    "        print('Texts padded or truncated to %d length!' % self.sequence_len)\n",
    "        # Add labels.\n",
    "        self.inputs.update({'labels':torch.tensor(labels)})\n",
    "        print('Finished!\\n')\n",
    "\n",
    "        return\n",
    "\n",
    "    def __len__(self):\n",
    "        r\"\"\"When used `len` return the number of examples.\n",
    "\n",
    "        \"\"\"\n",
    "\n",
    "        return self.n_examples\n",
    "\n",
    "    def __getitem__(self, item):\n",
    "        r\"\"\"Given an index return an example from the position.\n",
    "\n",
    "        Arguments:\n",
    "\n",
    "          item (:obj:`int`):\n",
    "              Index position to pick an example to return.\n",
    "\n",
    "        Returns:\n",
    "          :obj:`Dict[str, object]`: Dictionary of inputs that feed into the model.\n",
    "          It holddes the statement `model(**Returned Dictionary)`.\n",
    "\n",
    "        \"\"\"\n",
    "\n",
    "        return {key: self.inputs[key][item] for key in self.inputs.keys()}"
   ]
  },
  {
   "cell_type": "code",
   "execution_count": 3,
   "metadata": {},
   "outputs": [],
   "source": [
    "def train(dataloader, optimizer_, scheduler_, device_):\n",
    "    r\"\"\"\n",
    "    Train pytorch model on a single pass through the data loader.\n",
    "\n",
    "    It will use the global variable `model` which is the transformer model \n",
    "    loaded on `_device` that we want to train on.\n",
    "\n",
    "    This function is built with reusability in mind: it can be used as is as long\n",
    "    as the `dataloader` outputs a batch in dictionary format that can be passed \n",
    "    straight into the model - `model(**batch)`.\n",
    "\n",
    "    Arguments:\n",
    "\n",
    "      dataloader (:obj:`torch.utils.data.dataloader.DataLoader`):\n",
    "          Parsed data into batches of tensors.\n",
    "\n",
    "      optimizer_ (:obj:`transformers.optimization.AdamW`):\n",
    "          Optimizer used for training.\n",
    "\n",
    "      scheduler_ (:obj:`torch.optim.lr_scheduler.LambdaLR`):\n",
    "          PyTorch scheduler.\n",
    "\n",
    "      device_ (:obj:`torch.device`):\n",
    "          Device used to load tensors before feeding to model.\n",
    "\n",
    "    Returns:\n",
    "\n",
    "      :obj:`List[List[int], List[int], float]`: List of [True Labels, Predicted\n",
    "        Labels, Train Average Loss].\n",
    "    \"\"\"\n",
    "\n",
    "    # Use global variable for model.\n",
    "    global model\n",
    "\n",
    "    # Tracking variables.\n",
    "    predictions_labels = []\n",
    "    true_labels = []\n",
    "    # Total loss for this epoch.\n",
    "    total_loss = 0\n",
    "\n",
    "    # Put the model into training mode.\n",
    "    model.train()\n",
    "\n",
    "    # For each batch of training data...\n",
    "    for batch in tqdm(dataloader, total=len(dataloader)):\n",
    "\n",
    "        # Add original labels - use later for evaluation.\n",
    "        true_labels += batch['labels'].numpy().flatten().tolist()\n",
    "\n",
    "        # move batch to device\n",
    "        batch = {k:v.type(torch.long).to(device_) for k,v in batch.items()}\n",
    "\n",
    "        # Always clear any previously calculated gradients before performing a\n",
    "        # backward pass.\n",
    "        model.zero_grad()\n",
    "\n",
    "        # Perform a forward pass (evaluate the model on this training batch).\n",
    "        # This will return the loss (rather than the model output) because we\n",
    "        # have provided the `labels`.\n",
    "        # The documentation for this a bert model function is here: \n",
    "        # https://huggingface.co/transformers/v2.2.0/model_doc/bert.html#transformers.BertForSequenceClassification\n",
    "        \n",
    "        \n",
    "        outputs = model(**batch)\n",
    "\n",
    "        # The call to `model` always returns a tuple, so we need to pull the \n",
    "        # loss value out of the tuple along with the logits. We will use logits\n",
    "        # later to calculate training accuracy.\n",
    "        loss, logits = outputs[:2]\n",
    "\n",
    "        # Accumulate the training loss over all of the batches so that we can\n",
    "        # calculate the average loss at the end. `loss` is a Tensor containing a\n",
    "        # single value; the `.item()` function just returns the Python value \n",
    "        # from the tensor.\n",
    "        total_loss += loss.item()\n",
    "\n",
    "        # Perform a backward pass to calculate the gradients.\n",
    "        loss.backward()\n",
    "\n",
    "        # Clip the norm of the gradients to 1.0.\n",
    "        # This is to help prevent the \"exploding gradients\" problem.\n",
    "        torch.nn.utils.clip_grad_norm_(model.parameters(), 1.0)\n",
    "\n",
    "        # Update parameters and take a step using the computed gradient.\n",
    "        # The optimizer dictates the \"update rule\"--how the parameters are\n",
    "        # modified based on their gradients, the learning rate, etc.\n",
    "        optimizer.step()\n",
    "\n",
    "        # Update the learning rate.\n",
    "        scheduler.step()\n",
    "\n",
    "        # Move logits and labels to CPU\n",
    "        logits = logits.detach().cpu().numpy()\n",
    "\n",
    "        # Convert these logits to list of predicted labels values.\n",
    "        predictions_labels += logits.argmax(axis=-1).flatten().tolist()\n",
    "\n",
    "    # Calculate the average loss over the training data.\n",
    "    avg_epoch_loss = total_loss / len(dataloader)\n",
    "\n",
    "    # Return all true labels and prediction for future evaluations.\n",
    "    return true_labels, predictions_labels, avg_epoch_loss"
   ]
  },
  {
   "cell_type": "code",
   "execution_count": 4,
   "metadata": {},
   "outputs": [],
   "source": [
    "def validation(dataloader, device_):\n",
    "    r\"\"\"Validation function to evaluate model performance on a \n",
    "    separate set of data.\n",
    "\n",
    "    This function will return the true and predicted labels so we can use later\n",
    "    to evaluate the model's performance.\n",
    "\n",
    "    This function is built with reusability in mind: it can be used as is as long\n",
    "    as the `dataloader` outputs a batch in dictionary format that can be passed \n",
    "    straight into the model - `model(**batch)`.\n",
    "\n",
    "    Arguments:\n",
    "\n",
    "    dataloader (:obj:`torch.utils.data.dataloader.DataLoader`):\n",
    "          Parsed data into batches of tensors.\n",
    "\n",
    "    device_ (:obj:`torch.device`):\n",
    "          Device used to load tensors before feeding to model.\n",
    "\n",
    "    Returns:\n",
    "\n",
    "    :obj:`List[List[int], List[int], float]`: List of [True Labels, Predicted\n",
    "        Labels, Train Average Loss]\n",
    "    \"\"\"\n",
    "\n",
    "    # Use global variable for model.\n",
    "    global model\n",
    "\n",
    "    # Tracking variables\n",
    "    predictions_labels = []\n",
    "    true_labels = []\n",
    "    #total loss for this epoch.\n",
    "    total_loss = 0\n",
    "\n",
    "    # Put the model in evaluation mode--the dropout layers behave differently\n",
    "    # during evaluation.\n",
    "    model.eval()\n",
    "\n",
    "    # Evaluate data for one epoch\n",
    "    for batch in tqdm(dataloader, total=len(dataloader)):\n",
    "\n",
    "        # add original labels\n",
    "        true_labels += batch['labels'].numpy().flatten().tolist()\n",
    "\n",
    "        # move batch to device\n",
    "        batch = {k:v.type(torch.long).to(device_) for k,v in batch.items()}\n",
    "\n",
    "        # Telling the model not to compute or store gradients, saving memory and\n",
    "        # speeding up validation\n",
    "        with torch.no_grad():        \n",
    "\n",
    "            # Forward pass, calculate logit predictions.\n",
    "            # This will return the logits rather than the loss because we have\n",
    "            # not provided labels.\n",
    "            # token_type_ids is the same as the \"segment ids\", which \n",
    "            # differentiates sentence 1 and 2 in 2-sentence tasks.\n",
    "            # The documentation for this `model` function is here: \n",
    "            # https://huggingface.co/transformers/v2.2.0/model_doc/bert.html#transformers.BertForSequenceClassification\n",
    "            outputs = model(**batch)\n",
    "\n",
    "            # The call to `model` always returns a tuple, so we need to pull the \n",
    "            # loss value out of the tuple along with the logits. We will use logits\n",
    "            # later to to calculate training accuracy.\n",
    "            loss, logits = outputs[:2]\n",
    "\n",
    "            # Move logits and labels to CPU\n",
    "            logits = logits.detach().cpu().numpy()\n",
    "\n",
    "            # Accumulate the training loss over all of the batches so that we can\n",
    "            # calculate the average loss at the end. `loss` is a Tensor containing a\n",
    "            # single value; the `.item()` function just returns the Python value \n",
    "            # from the tensor.\n",
    "            total_loss += loss.item()\n",
    "\n",
    "            # get predicitons to list\n",
    "            predict_content = logits.argmax(axis=-1).flatten().tolist()\n",
    "\n",
    "            # update list\n",
    "            predictions_labels += predict_content\n",
    "\n",
    "    # Calculate the average loss over the training data.\n",
    "    avg_epoch_loss = total_loss / len(dataloader)\n",
    "\n",
    "    # Return all true labels and prediciton for future evaluations.\n",
    "    return true_labels, predictions_labels, avg_epoch_loss"
   ]
  },
  {
   "cell_type": "code",
   "execution_count": 5,
   "metadata": {},
   "outputs": [
    {
     "name": "stdout",
     "output_type": "stream",
     "text": [
      "Loading configuraiton...\n",
      "Loading tokenizer...\n",
      "Loading model...\n"
     ]
    },
    {
     "name": "stderr",
     "output_type": "stream",
     "text": [
      "Some weights of the model checkpoint at microsoft/codebert-base were not used when initializing RobertaForSequenceClassification: ['pooler.dense.weight', 'pooler.dense.bias']\n",
      "- This IS expected if you are initializing RobertaForSequenceClassification from the checkpoint of a model trained on another task or with another architecture (e.g. initializing a BertForSequenceClassification model from a BertForPreTraining model).\n",
      "- This IS NOT expected if you are initializing RobertaForSequenceClassification from the checkpoint of a model that you expect to be exactly identical (initializing a BertForSequenceClassification model from a BertForSequenceClassification model).\n",
      "Some weights of RobertaForSequenceClassification were not initialized from the model checkpoint at microsoft/codebert-base and are newly initialized: ['classifier.out_proj.bias', 'classifier.out_proj.weight', 'classifier.dense.weight', 'classifier.dense.bias']\n",
      "You should probably TRAIN this model on a down-stream task to be able to use it for predictions and inference.\n"
     ]
    },
    {
     "name": "stdout",
     "output_type": "stream",
     "text": [
      "Model loaded to `cuda`\n"
     ]
    }
   ],
   "source": [
    "# Get model configuration.\n",
    "print('Loading configuraiton...')\n",
    "model_config = AutoConfig.from_pretrained(pretrained_model_name_or_path=model_name_or_path, \n",
    "                                          num_labels=n_labels)\n",
    "\n",
    "# Get model's tokenizer.\n",
    "print('Loading tokenizer...')\n",
    "tokenizer = AutoTokenizer.from_pretrained(pretrained_model_name_or_path=model_name_or_path)\n",
    "\n",
    "# Get the actual model.\n",
    "print('Loading model...')\n",
    "model = AutoModelForSequenceClassification.from_pretrained(pretrained_model_name_or_path=model_name_or_path, \n",
    "                                                           config=model_config)\n",
    "\n",
    "# Load model to defined device.\n",
    "model.to(device)\n",
    "print('Model loaded to `%s`'%device)"
   ]
  },
  {
   "cell_type": "code",
   "execution_count": 6,
   "metadata": {},
   "outputs": [
    {
     "name": "stdout",
     "output_type": "stream",
     "text": [
      "Dealing with Train...\n",
      "Reading partitions...\n",
      "Using tokenizer on all texts. This can take a while...\n",
      "Texts padded or truncated to 512 length!\n",
      "Finished!\n",
      "\n",
      "Created `train_dataset` with 929 examples!\n",
      "Created `train_dataloader` with 50 batches!\n",
      "Created `eval_dataloader` with 9 batches!\n"
     ]
    }
   ],
   "source": [
    "print('Dealing with Train...')\n",
    "# Create pytorch dataset.\n",
    "train_dataset = CodeDataset(path='data', \n",
    "                               use_tokenizer=tokenizer, \n",
    "                               labels_ids=labels_ids,\n",
    "                               max_sequence_len=max_length)\n",
    "print('Created `train_dataset` with %d examples!'%len(train_dataset))\n",
    "\n",
    "train_dataset, valid_dataset = torch.utils.data.random_split(train_dataset, [800, 129])\n",
    "\n",
    "# Move pytorch dataset into dataloader.\n",
    "train_dataloader = DataLoader(train_dataset, batch_size=batch_size, shuffle=True)\n",
    "print('Created `train_dataloader` with %d batches!'%len(train_dataloader))\n",
    "\n",
    "#print()\n",
    "\n",
    "#print('Dealing with ...')\n",
    "# Create pytorch dataset.\n",
    "#valid_dataset =  CodeDataset(path='data', \n",
    "#                               use_tokenizer=tokenizer, \n",
    "#                               labels_ids=labels_ids,\n",
    "#                               max_sequence_len=max_length)\n",
    "#print('Created `valid_dataset` with %d examples!'%len(valid_dataset))\n",
    "\n",
    "# Move pytorch dataset into dataloader.\n",
    "valid_dataloader = DataLoader(valid_dataset, batch_size=batch_size, shuffle=False)\n",
    "print('Created `eval_dataloader` with %d batches!'%len(valid_dataloader))"
   ]
  },
  {
   "cell_type": "code",
   "execution_count": null,
   "metadata": {},
   "outputs": [
    {
     "name": "stdout",
     "output_type": "stream",
     "text": [
      "Epoch\n"
     ]
    },
    {
     "data": {
      "application/vnd.jupyter.widget-view+json": {
       "model_id": "7073b4fadaba42e299fd49d9877a4641",
       "version_major": 2,
       "version_minor": 0
      },
      "text/plain": [
       "HBox(children=(FloatProgress(value=0.0, max=50.0), HTML(value='')))"
      ]
     },
     "metadata": {},
     "output_type": "display_data"
    },
    {
     "name": "stdout",
     "output_type": "stream",
     "text": [
      "\n",
      "Training on batches...\n"
     ]
    },
    {
     "data": {
      "application/vnd.jupyter.widget-view+json": {
       "model_id": "1646cdd8ebed451e86a63e1328812a75",
       "version_major": 2,
       "version_minor": 0
      },
      "text/plain": [
       "HBox(children=(FloatProgress(value=0.0, max=50.0), HTML(value='')))"
      ]
     },
     "metadata": {},
     "output_type": "display_data"
    },
    {
     "name": "stdout",
     "output_type": "stream",
     "text": [
      "\n",
      "Validation on batches...\n"
     ]
    },
    {
     "data": {
      "application/vnd.jupyter.widget-view+json": {
       "model_id": "6e884644f03440abb5c5b88ee4bbcea5",
       "version_major": 2,
       "version_minor": 0
      },
      "text/plain": [
       "HBox(children=(FloatProgress(value=0.0, max=9.0), HTML(value='')))"
      ]
     },
     "metadata": {},
     "output_type": "display_data"
    },
    {
     "name": "stdout",
     "output_type": "stream",
     "text": [
      "\n",
      "  train_loss: 1.67537 - val_loss: 1.38746 - train_acc: 0.38625 - valid_acc: 0.44186\n",
      "\n",
      "\n",
      "Training on batches...\n"
     ]
    },
    {
     "data": {
      "application/vnd.jupyter.widget-view+json": {
       "model_id": "30eb7eacf4d44cf2b237daae5d80e62d",
       "version_major": 2,
       "version_minor": 0
      },
      "text/plain": [
       "HBox(children=(FloatProgress(value=0.0, max=50.0), HTML(value='')))"
      ]
     },
     "metadata": {},
     "output_type": "display_data"
    },
    {
     "name": "stdout",
     "output_type": "stream",
     "text": [
      "\n",
      "Validation on batches...\n"
     ]
    },
    {
     "data": {
      "application/vnd.jupyter.widget-view+json": {
       "model_id": "189d8e73044b4025abf20a1f51cf9d0f",
       "version_major": 2,
       "version_minor": 0
      },
      "text/plain": [
       "HBox(children=(FloatProgress(value=0.0, max=9.0), HTML(value='')))"
      ]
     },
     "metadata": {},
     "output_type": "display_data"
    },
    {
     "name": "stdout",
     "output_type": "stream",
     "text": [
      "\n",
      "  train_loss: 1.39440 - val_loss: 1.20748 - train_acc: 0.44375 - valid_acc: 0.50388\n",
      "\n",
      "\n",
      "Training on batches...\n"
     ]
    },
    {
     "data": {
      "application/vnd.jupyter.widget-view+json": {
       "model_id": "259bbf80f07f4c1c986f9076613f1756",
       "version_major": 2,
       "version_minor": 0
      },
      "text/plain": [
       "HBox(children=(FloatProgress(value=0.0, max=50.0), HTML(value='')))"
      ]
     },
     "metadata": {},
     "output_type": "display_data"
    },
    {
     "name": "stdout",
     "output_type": "stream",
     "text": [
      "\n",
      "Validation on batches...\n"
     ]
    },
    {
     "data": {
      "application/vnd.jupyter.widget-view+json": {
       "model_id": "104f85657fd447b9b023ae1cdcdb1065",
       "version_major": 2,
       "version_minor": 0
      },
      "text/plain": [
       "HBox(children=(FloatProgress(value=0.0, max=9.0), HTML(value='')))"
      ]
     },
     "metadata": {},
     "output_type": "display_data"
    },
    {
     "name": "stdout",
     "output_type": "stream",
     "text": [
      "\n",
      "  train_loss: 1.26197 - val_loss: 1.09388 - train_acc: 0.48125 - valid_acc: 0.56589\n",
      "\n",
      "\n",
      "Training on batches...\n"
     ]
    },
    {
     "data": {
      "application/vnd.jupyter.widget-view+json": {
       "model_id": "17e069b0ff874ca18a386395e59a4268",
       "version_major": 2,
       "version_minor": 0
      },
      "text/plain": [
       "HBox(children=(FloatProgress(value=0.0, max=50.0), HTML(value='')))"
      ]
     },
     "metadata": {},
     "output_type": "display_data"
    },
    {
     "name": "stdout",
     "output_type": "stream",
     "text": [
      "\n",
      "Validation on batches...\n"
     ]
    },
    {
     "data": {
      "application/vnd.jupyter.widget-view+json": {
       "model_id": "f3504e20716b4bf89c5b8bec7682b8f5",
       "version_major": 2,
       "version_minor": 0
      },
      "text/plain": [
       "HBox(children=(FloatProgress(value=0.0, max=9.0), HTML(value='')))"
      ]
     },
     "metadata": {},
     "output_type": "display_data"
    },
    {
     "name": "stdout",
     "output_type": "stream",
     "text": [
      "\n",
      "  train_loss: 1.17101 - val_loss: 1.02202 - train_acc: 0.51750 - valid_acc: 0.56589\n",
      "\n",
      "\n",
      "Training on batches...\n"
     ]
    },
    {
     "data": {
      "application/vnd.jupyter.widget-view+json": {
       "model_id": "91dca1c14c5642a3916dd8460ac432f0",
       "version_major": 2,
       "version_minor": 0
      },
      "text/plain": [
       "HBox(children=(FloatProgress(value=0.0, max=50.0), HTML(value='')))"
      ]
     },
     "metadata": {},
     "output_type": "display_data"
    },
    {
     "name": "stdout",
     "output_type": "stream",
     "text": [
      "\n",
      "Validation on batches...\n"
     ]
    },
    {
     "data": {
      "application/vnd.jupyter.widget-view+json": {
       "model_id": "93a649f0d0624479810303d9fdf44fb4",
       "version_major": 2,
       "version_minor": 0
      },
      "text/plain": [
       "HBox(children=(FloatProgress(value=0.0, max=9.0), HTML(value='')))"
      ]
     },
     "metadata": {},
     "output_type": "display_data"
    },
    {
     "name": "stdout",
     "output_type": "stream",
     "text": [
      "\n",
      "  train_loss: 1.03219 - val_loss: 1.00649 - train_acc: 0.59750 - valid_acc: 0.62016\n",
      "\n",
      "\n",
      "Training on batches...\n"
     ]
    },
    {
     "data": {
      "application/vnd.jupyter.widget-view+json": {
       "model_id": "f0ca752484994ad2b5aa83845a9c3ac7",
       "version_major": 2,
       "version_minor": 0
      },
      "text/plain": [
       "HBox(children=(FloatProgress(value=0.0, max=50.0), HTML(value='')))"
      ]
     },
     "metadata": {},
     "output_type": "display_data"
    },
    {
     "name": "stdout",
     "output_type": "stream",
     "text": [
      "\n",
      "Validation on batches...\n"
     ]
    },
    {
     "data": {
      "application/vnd.jupyter.widget-view+json": {
       "model_id": "0bd65ba4352a492b9994ecbf1087ded3",
       "version_major": 2,
       "version_minor": 0
      },
      "text/plain": [
       "HBox(children=(FloatProgress(value=0.0, max=9.0), HTML(value='')))"
      ]
     },
     "metadata": {},
     "output_type": "display_data"
    },
    {
     "name": "stdout",
     "output_type": "stream",
     "text": [
      "\n",
      "  train_loss: 0.93820 - val_loss: 1.00355 - train_acc: 0.65750 - valid_acc: 0.60465\n",
      "\n",
      "\n",
      "Training on batches...\n"
     ]
    },
    {
     "data": {
      "application/vnd.jupyter.widget-view+json": {
       "model_id": "34a535f17d6e4fe3908ecb9625ab2735",
       "version_major": 2,
       "version_minor": 0
      },
      "text/plain": [
       "HBox(children=(FloatProgress(value=0.0, max=50.0), HTML(value='')))"
      ]
     },
     "metadata": {},
     "output_type": "display_data"
    }
   ],
   "source": [
    "# Note: AdamW is a class from the huggingface library (as opposed to pytorch) \n",
    "# I believe the 'W' stands for 'Weight Decay fix\"\n",
    "optimizer = AdamW(model.parameters(),\n",
    "                  lr = 2e-5, # args.learning_rate - default is 5e-5, our notebook had 2e-5\n",
    "                  eps = 1e-8 # args.adam_epsilon  - default is 1e-8.\n",
    "                  )\n",
    "\n",
    "# Total number of training steps is number of batches * number of epochs.\n",
    "# `train_dataloader` contains batched data so `len(train_dataloader)` gives \n",
    "# us the number of batches.\n",
    "total_steps = len(train_dataloader) * epochs\n",
    "\n",
    "# Create the learning rate scheduler.\n",
    "scheduler = get_linear_schedule_with_warmup(optimizer, \n",
    "                                            num_warmup_steps = 0, # Default value in run_glue.py\n",
    "                                            num_training_steps = total_steps)\n",
    "\n",
    "# Store the average loss after each epoch so we can plot them.\n",
    "all_loss = {'train_loss':[], 'val_loss':[]}\n",
    "all_acc = {'train_acc':[], 'val_acc':[]}\n",
    "\n",
    "# Loop through each epoch.\n",
    "print('Epoch')\n",
    "for epoch in tqdm(range(epochs)):\n",
    "    print()\n",
    "    print('Training on batches...')\n",
    "    # Perform one full pass over the training set.\n",
    "    train_labels, train_predict, train_loss = train(train_dataloader, optimizer, scheduler, device)\n",
    "    train_acc = accuracy_score(train_labels, train_predict)\n",
    "\n",
    "    # Get prediction form model on validation data. \n",
    "    print('Validation on batches...')\n",
    "    valid_labels, valid_predict, val_loss = validation(valid_dataloader, device)\n",
    "    val_acc = accuracy_score(valid_labels, valid_predict)\n",
    "\n",
    "    # Print loss and accuracy values to see how training evolves.\n",
    "    print(\"  train_loss: %.5f - val_loss: %.5f - train_acc: %.5f - valid_acc: %.5f\"%(train_loss, val_loss, train_acc, val_acc))\n",
    "    print()\n",
    "\n",
    "    # Store the loss value for plotting the learning curve.\n",
    "    all_loss['train_loss'].append(train_loss)\n",
    "    all_loss['val_loss'].append(val_loss)\n",
    "    all_acc['train_acc'].append(train_acc)\n",
    "    all_acc['val_acc'].append(val_acc)"
   ]
  },
  {
   "cell_type": "code",
   "execution_count": null,
   "metadata": {},
   "outputs": [],
   "source": [
    "# Plot loss curves.\n",
    "plot_dict(all_loss, use_xlabel='Epochs', use_ylabel='Value', use_linestyles=['-', '--'])\n",
    "\n",
    "# Plot accuracy curves.\n",
    "plot_dict(all_acc, use_xlabel='Epochs', use_ylabel='Value', use_linestyles=['-', '--'])"
   ]
  },
  {
   "cell_type": "code",
   "execution_count": null,
   "metadata": {},
   "outputs": [],
   "source": []
  }
 ],
 "metadata": {
  "kernelspec": {
   "display_name": "Python 3",
   "language": "python",
   "name": "python3"
  },
  "language_info": {
   "codemirror_mode": {
    "name": "ipython",
    "version": 3
   },
   "file_extension": ".py",
   "mimetype": "text/x-python",
   "name": "python",
   "nbconvert_exporter": "python",
   "pygments_lexer": "ipython3",
   "version": "3.6.9"
  }
 },
 "nbformat": 4,
 "nbformat_minor": 4
}
